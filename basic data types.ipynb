{
 "cells": [
  {
   "cell_type": "markdown",
   "id": "7ba0f97e-c55b-49a5-9542-b61bbd5364ef",
   "metadata": {},
   "source": [
    "TEXT DATA "
   ]
  },
  {
   "cell_type": "code",
   "execution_count": 3,
   "id": "b2a063f9-e5c0-470d-aa61-67a43e2c8209",
   "metadata": {},
   "outputs": [
    {
     "data": {
      "text/plain": [
       "'hello'"
      ]
     },
     "execution_count": 3,
     "metadata": {},
     "output_type": "execute_result"
    }
   ],
   "source": [
    "\"hello\""
   ]
  },
  {
   "cell_type": "code",
   "execution_count": null,
   "id": "a55a8570-179b-4f99-b815-fec99994a921",
   "metadata": {},
   "outputs": [],
   "source": []
  }
 ],
 "metadata": {
  "kernelspec": {
   "display_name": "Python [conda env:base] *",
   "language": "python",
   "name": "conda-base-py"
  },
  "language_info": {
   "codemirror_mode": {
    "name": "ipython",
    "version": 3
   },
   "file_extension": ".py",
   "mimetype": "text/x-python",
   "name": "python",
   "nbconvert_exporter": "python",
   "pygments_lexer": "ipython3",
   "version": "3.13.5"
  }
 },
 "nbformat": 4,
 "nbformat_minor": 5
}
